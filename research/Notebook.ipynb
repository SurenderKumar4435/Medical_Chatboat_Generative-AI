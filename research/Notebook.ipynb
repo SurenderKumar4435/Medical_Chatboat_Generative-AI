{
 "cells": [
  {
   "cell_type": "code",
   "execution_count": 1,
   "id": "c072ed54",
   "metadata": {},
   "outputs": [
    {
     "name": "stdout",
     "output_type": "stream",
     "text": [
      "hello\n"
     ]
    }
   ],
   "source": [
    "print(\"hello\")"
   ]
  },
  {
   "cell_type": "code",
   "execution_count": 2,
   "id": "160b6d90",
   "metadata": {},
   "outputs": [],
   "source": [
    "from langchain_community.document_loaders import PyPDFLoader\n",
    "\n",
    "file_path = \"D:\\Generative.AI\\Medical_Chatboat_Generative-AI\\Data\\Medical_book.pdf\"\n",
    "loader = PyPDFLoader(file_path)\n",
    "\n",
    "docs = loader.load()\n"
   ]
  },
  {
   "cell_type": "code",
   "execution_count": 5,
   "id": "bffa308b",
   "metadata": {},
   "outputs": [],
   "source": [
    "#docs"
   ]
  },
  {
   "cell_type": "code",
   "execution_count": 3,
   "id": "02d4c705",
   "metadata": {},
   "outputs": [],
   "source": [
    "from langchain_text_splitters import RecursiveCharacterTextSplitter\n",
    "text_splitter = RecursiveCharacterTextSplitter(chunk_size=100, chunk_overlap=20)\n",
    "\n",
    "texts_chunk = text_splitter.split_documents(docs)"
   ]
  },
  {
   "cell_type": "code",
   "execution_count": 4,
   "id": "a9773163",
   "metadata": {},
   "outputs": [
    {
     "data": {
      "text/plain": [
       "42207"
      ]
     },
     "execution_count": 4,
     "metadata": {},
     "output_type": "execute_result"
    }
   ],
   "source": [
    "len(texts_chunk)"
   ]
  },
  {
   "cell_type": "code",
   "execution_count": null,
   "id": "48b14d93",
   "metadata": {},
   "outputs": [],
   "source": [
    "from langchain_openai import OpenAIEmbeddings\n",
    "\n",
    "embeddings = OpenAIEmbeddings(model=\"text-embedding-ada-002\")"
   ]
  },
  {
   "cell_type": "code",
   "execution_count": 6,
   "id": "31894a6c",
   "metadata": {},
   "outputs": [
    {
     "name": "stdout",
     "output_type": "stream",
     "text": [
      "1536\n"
     ]
    }
   ],
   "source": [
    "result = embeddings.embed_query(\"Hello, world!\")\n",
    "print(len(result))"
   ]
  },
  {
   "cell_type": "code",
   "execution_count": null,
   "id": "783e1c38",
   "metadata": {},
   "outputs": [
    {
     "name": "stderr",
     "output_type": "stream",
     "text": [
      "c:\\Users\\ASUS\\anaconda3\\envs\\medical_chat\\Lib\\site-packages\\tqdm\\auto.py:21: TqdmWarning: IProgress not found. Please update jupyter and ipywidgets. See https://ipywidgets.readthedocs.io/en/stable/user_install.html\n",
      "  from .autonotebook import tqdm as notebook_tqdm\n"
     ]
    },
    {
     "data": {
      "text/plain": [
       "{\n",
       "    \"name\": \"medical-chatbot\",\n",
       "    \"metric\": \"cosine\",\n",
       "    \"host\": \"medical-chatbot-wwanfk8.svc.aped-4627-b74a.pinecone.io\",\n",
       "    \"spec\": {\n",
       "        \"serverless\": {\n",
       "            \"cloud\": \"aws\",\n",
       "            \"region\": \"us-east-1\"\n",
       "        }\n",
       "    },\n",
       "    \"status\": {\n",
       "        \"ready\": true,\n",
       "        \"state\": \"Ready\"\n",
       "    },\n",
       "    \"vector_type\": \"dense\",\n",
       "    \"dimension\": 1536,\n",
       "    \"deletion_protection\": \"disabled\",\n",
       "    \"tags\": null\n",
       "}"
      ]
     },
     "execution_count": 7,
     "metadata": {},
     "output_type": "execute_result"
    }
   ],
   "source": [
    "from pinecone.grpc import PineconeGRPC as Pinecone\n",
    "from pinecone import ServerlessSpec\n",
    "\n",
    "\n",
    "\n",
    "import os\n",
    "from dotenv import load_dotenv\n",
    "\n",
    "load_dotenv()\n",
    "\n",
    "pinecone_api_key = os.environ.get(\"PINECONE_API_KEY\")\n",
    "\n",
    "\n",
    "\n",
    "# Step 2: Initialize the Pinecone client\n",
    "pc = Pinecone(api_key=pinecone_api_key)\n",
    "\n",
    "# Step 3: Define index name\n",
    "index_name = \"medical-chatbot\"\n",
    "\n",
    "# Step 4: Create the index\n",
    "pc.create_index(\n",
    "    name=index_name,\n",
    "    dimension=1536,  # --> set according to your embedding vector size\n",
    "    metric=\"cosine\",\n",
    "    spec=ServerlessSpec(\n",
    "        cloud=\"aws\",\n",
    "        region=\"us-east-1\"\n",
    "    )\n",
    ")\n"
   ]
  },
  {
   "cell_type": "markdown",
   "id": "4f590440",
   "metadata": {},
   "source": [
    "## Our Vector Embeddings Store in PineconeDB\n",
    "\n",
    "* It means jitne aapke text_chunk hai utne hi  Pinecone vector DB mai store honge like 42207"
   ]
  },
  {
   "cell_type": "code",
   "execution_count": 8,
   "id": "bb3ae7c5",
   "metadata": {},
   "outputs": [],
   "source": [
    "from langchain_pinecone import PineconeVectorStore\n",
    "\n",
    "doc_search = PineconeVectorStore.from_documents(\n",
    "    documents=texts_chunk,\n",
    "    index_name = index_name,\n",
    "    embedding = embeddings\n",
    ")"
   ]
  },
  {
   "cell_type": "markdown",
   "id": "3f3b1ed0",
   "metadata": {},
   "source": [
    "isting index"
   ]
  },
  {
   "cell_type": "markdown",
   "id": "21d25b32",
   "metadata": {},
   "source": [
    "## Load the ex"
   ]
  },
  {
   "cell_type": "code",
   "execution_count": 9,
   "id": "7b21bdcf",
   "metadata": {},
   "outputs": [],
   "source": [
    "from langchain_pinecone import PineconeVectorStore\n",
    "\n",
    "docsearch = PineconeVectorStore.from_existing_index(\n",
    "    index_name= index_name,\n",
    "    embedding=embeddings\n",
    ")"
   ]
  },
  {
   "cell_type": "code",
   "execution_count": 10,
   "id": "c0d5601a",
   "metadata": {},
   "outputs": [
    {
     "data": {
      "text/plain": [
       "<langchain_pinecone.vectorstores.PineconeVectorStore at 0x1fb710f8290>"
      ]
     },
     "execution_count": 10,
     "metadata": {},
     "output_type": "execute_result"
    }
   ],
   "source": [
    "docsearch"
   ]
  },
  {
   "cell_type": "markdown",
   "id": "42204942",
   "metadata": {},
   "source": [
    "## Retriver-->"
   ]
  },
  {
   "cell_type": "markdown",
   "id": "b139a8fd",
   "metadata": {},
   "source": []
  },
  {
   "cell_type": "code",
   "execution_count": null,
   "id": "58bc52bc",
   "metadata": {},
   "outputs": [],
   "source": [
    "retriever = docsearch.as_retriever(search_type = \"similarity\", search_kwargs = {\"k\" : 3})  ## it give you 3 relevant answer"
   ]
  },
  {
   "cell_type": "code",
   "execution_count": 14,
   "id": "e9594b3e",
   "metadata": {},
   "outputs": [],
   "source": [
    "result = retriever.invoke(\"what is Acne\")"
   ]
  },
  {
   "cell_type": "code",
   "execution_count": 16,
   "id": "6b1853b9",
   "metadata": {},
   "outputs": [
    {
     "data": {
      "text/plain": [
       "[Document(id='b96d8cca-8098-4410-a05f-08cc2332562d', metadata={'creationdate': '2004-12-18T17:00:02-05:00', 'creator': 'PyPDF', 'moddate': '2004-12-18T16:15:31-06:00', 'page': 242.0, 'page_label': '243', 'producer': 'PDFlib+PDI 5.0.0 (SunOS)', 'source': 'D:\\\\Generative.AI\\\\Medical_Chatboat_Generative-AI\\\\Data\\\\Medical_book.pdf', 'total_pages': 637.0}, page_content='KEY TERMS\\nAcne—A skin condition in which raised bumps,'),\n",
       " Document(id='dd55f479-334f-4e68-8798-58e690fe75d0', metadata={'creationdate': '2004-12-18T17:00:02-05:00', 'creator': 'PyPDF', 'moddate': '2004-12-18T16:15:31-06:00', 'page': 241.0, 'page_label': '242', 'producer': 'PDFlib+PDI 5.0.0 (SunOS)', 'source': 'D:\\\\Generative.AI\\\\Medical_Chatboat_Generative-AI\\\\Data\\\\Medical_book.pdf', 'total_pages': 637.0}, page_content='KEY TERMS\\nAcne—A skin condition in which raised bumps,'),\n",
       " Document(id='8dee3eb2-67ae-451e-8364-a3e51982da0a', metadata={'creationdate': '2004-12-18T17:00:02-05:00', 'creator': 'PyPDF', 'moddate': '2004-12-18T16:15:31-06:00', 'page': 37.0, 'page_label': '38', 'producer': 'PDFlib+PDI 5.0.0 (SunOS)', 'source': 'D:\\\\Generative.AI\\\\Medical_Chatboat_Generative-AI\\\\Data\\\\Medical_book.pdf', 'total_pages': 637.0}, page_content='Description\\nAcne vulgaris, the medical term for common acne, is')]"
      ]
     },
     "execution_count": 16,
     "metadata": {},
     "output_type": "execute_result"
    }
   ],
   "source": [
    "result"
   ]
  },
  {
   "cell_type": "markdown",
   "id": "745a7089",
   "metadata": {},
   "source": [
    "##  I want to relevant/crucial output. So , now we connect my LLms model "
   ]
  },
  {
   "cell_type": "code",
   "execution_count": 17,
   "id": "7f328d1b",
   "metadata": {},
   "outputs": [],
   "source": [
    "import os\n",
    "from dotenv import load_dotenv\n",
    "\n",
    "load_dotenv()\n",
    "\n",
    "openai_api_key = os.environ.get(\"OPENAI_API_KEY\")"
   ]
  },
  {
   "cell_type": "code",
   "execution_count": null,
   "id": "56f7f396",
   "metadata": {},
   "outputs": [],
   "source": [
    "from langchain_openai import OpenAI\n",
    "\n",
    "llm = OpenAI(temperature=0.4, max_tokens=500)"
   ]
  },
  {
   "cell_type": "code",
   "execution_count": 31,
   "id": "1d829aea",
   "metadata": {},
   "outputs": [],
   "source": [
    "from langchain.chains import create_retrieval_chain\n",
    "from langchain.chains.combine_documents import create_stuff_documents_chain\n",
    "from langchain_core.prompts import ChatPromptTemplate\n",
    "\n",
    "\n",
    "\n",
    "system_prompt = (\n",
    "    \" You are an assistant for question-answer tasks\"\n",
    "    \"Use the following pieces of retrieved context to answer\"\n",
    "    \"the question. If you don't know the answer , say that you \"\n",
    "    \" don't know. Use three sentence maximum and keep the \"\n",
    "    \"answer concise. \\n\\n\"\n",
    "    \"{context}\"  \n",
    ")\n",
    "\n",
    "\n",
    "prompt_template = ChatPromptTemplate.from_messages(\n",
    "    [\n",
    "\n",
    "    (\"system\", \"system_prompt\"),\n",
    "    (\"human\", \"{context}\")\n",
    "]\n",
    "\n",
    ")\n",
    "\n"
   ]
  },
  {
   "cell_type": "markdown",
   "id": "bebaea06",
   "metadata": {},
   "source": [
    "## Chain"
   ]
  },
  {
   "cell_type": "code",
   "execution_count": 32,
   "id": "c40076e1",
   "metadata": {},
   "outputs": [],
   "source": [
    "question_answer_chain = create_stuff_documents_chain(llm,prompt_template)\n",
    "rag_chain = create_retrieval_chain(retriever, question_answer_chain)"
   ]
  },
  {
   "cell_type": "code",
   "execution_count": 37,
   "id": "b2bac258",
   "metadata": {},
   "outputs": [
    {
     "name": "stdout",
     "output_type": "stream",
     "text": [
      " a skin condition that occurs when hair follicles become clogged with oil and dead skin cells. This can lead to the formation of whiteheads, blackheads, and pimples on the face, chest, and back. Acne is most common during puberty, but can also affect adults. It is not a serious health threat, but can be frustrating and may cause scarring if left untreated. Treatment options include topical creams, oral medications, and lifestyle changes.\n"
     ]
    }
   ],
   "source": [
    "response = rag_chain.invoke({\"input\" : \"What is Acne .?\"})\n",
    "print(response[\"answer\"])"
   ]
  },
  {
   "cell_type": "code",
   "execution_count": 38,
   "id": "d0012d5e",
   "metadata": {},
   "outputs": [
    {
     "name": "stdout",
     "output_type": "stream",
     "text": [
      " can cause headaches, nausea, vomiting, and dizziness. Other potential side effects include skin rashes, hair loss, and changes in vision. In rare cases, pyrimethamine can also cause more serious side effects such as anemia, liver damage, and allergic reactions. It is important for individuals taking pyrimethamine to closely monitor their symptoms and report any concerning side effects to their healthcare provider.\n"
     ]
    }
   ],
   "source": [
    "response = rag_chain.invoke({\"input\" : \"What is the harmfull affect of paractamol .?\"})\n",
    "print(response[\"answer\"])"
   ]
  },
  {
   "cell_type": "code",
   "execution_count": null,
   "id": "a55de58e",
   "metadata": {},
   "outputs": [],
   "source": []
  }
 ],
 "metadata": {
  "kernelspec": {
   "display_name": "medical_chat",
   "language": "python",
   "name": "python3"
  },
  "language_info": {
   "codemirror_mode": {
    "name": "ipython",
    "version": 3
   },
   "file_extension": ".py",
   "mimetype": "text/x-python",
   "name": "python",
   "nbconvert_exporter": "python",
   "pygments_lexer": "ipython3",
   "version": "3.11.13"
  }
 },
 "nbformat": 4,
 "nbformat_minor": 5
}
