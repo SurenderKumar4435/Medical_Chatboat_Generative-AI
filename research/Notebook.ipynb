{
 "cells": [
  {
   "cell_type": "code",
   "execution_count": 3,
   "id": "c072ed54",
   "metadata": {},
   "outputs": [
    {
     "name": "stdout",
     "output_type": "stream",
     "text": [
      "hello\n"
     ]
    }
   ],
   "source": [
    "print(\"hello\")"
   ]
  },
  {
   "cell_type": "code",
   "execution_count": 5,
   "id": "160b6d90",
   "metadata": {},
   "outputs": [],
   "source": [
    "from langchain_community.document_loaders import PyPDFLoader\n",
    "\n",
    "file_path = \"D:\\Generative.AI\\Medical_Chatboat_Generative-AI\\Data\\Medical_book.pdf\"\n",
    "loader = PyPDFLoader(file_path)\n",
    "\n",
    "docs = loader.load()\n"
   ]
  },
  {
   "cell_type": "code",
   "execution_count": null,
   "id": "bffa308b",
   "metadata": {},
   "outputs": [],
   "source": [
    "#docs"
   ]
  },
  {
   "cell_type": "code",
   "execution_count": 6,
   "id": "02d4c705",
   "metadata": {},
   "outputs": [],
   "source": [
    "from langchain_text_splitters import RecursiveCharacterTextSplitter\n",
    "text_splitter = RecursiveCharacterTextSplitter(chunk_size=100, chunk_overlap=20)\n",
    "\n",
    "texts_chunk = text_splitter.split_documents(docs)"
   ]
  },
  {
   "cell_type": "code",
   "execution_count": 7,
   "id": "a9773163",
   "metadata": {},
   "outputs": [
    {
     "data": {
      "text/plain": [
       "37348"
      ]
     },
     "execution_count": 7,
     "metadata": {},
     "output_type": "execute_result"
    }
   ],
   "source": [
    "len(texts_chunk)"
   ]
  },
  {
   "cell_type": "code",
   "execution_count": 8,
   "id": "48b14d93",
   "metadata": {},
   "outputs": [],
   "source": [
    "from langchain_openai import OpenAIEmbeddings\n",
    "\n",
    "embeddings = OpenAIEmbeddings(model=\"text-embedding-ada-002\")"
   ]
  },
  {
   "cell_type": "code",
   "execution_count": 9,
   "id": "31894a6c",
   "metadata": {},
   "outputs": [
    {
     "name": "stdout",
     "output_type": "stream",
     "text": [
      "1536\n"
     ]
    }
   ],
   "source": [
    "result = embeddings.embed_query(\"Hello, world!\")\n",
    "print(len(result))"
   ]
  },
  {
   "cell_type": "code",
   "execution_count": 10,
   "id": "783e1c38",
   "metadata": {},
   "outputs": [
    {
     "name": "stderr",
     "output_type": "stream",
     "text": [
      "c:\\Users\\ASUS\\anaconda3\\envs\\medical_chat\\Lib\\site-packages\\pinecone\\data\\index.py:1: TqdmWarning: IProgress not found. Please update jupyter and ipywidgets. See https://ipywidgets.readthedocs.io/en/stable/user_install.html\n",
      "  from tqdm.autonotebook import tqdm\n"
     ]
    }
   ],
   "source": [
    "from pinecone.grpc import PineconeGRPC as Pinecone\n",
    "from pinecone import ServerlessSpec\n",
    "\n",
    "\n",
    "\n",
    "import os\n",
    "from dotenv import load_dotenv\n",
    "\n",
    "load_dotenv()\n",
    "\n",
    "pinecone_api_key = os.environ.get(\"PINECONE_API_KEY\")\n",
    "\n",
    "\n",
    "\n",
    "# Step 2: Initialize the Pinecone client\n",
    "pc = Pinecone(api_key=pinecone_api_key)\n",
    "\n",
    "# Step 3: Define index name\n",
    "index_name = \"medical-chatbot\"\n",
    "\n",
    "# Step 4: Create the index\n",
    "pc.create_index(\n",
    "    name=index_name,\n",
    "    dimension=1536,  # --> set according to your embedding vector size\n",
    "    metric=\"cosine\",\n",
    "    spec=ServerlessSpec(\n",
    "        cloud=\"aws\",\n",
    "        region=\"us-east-1\"\n",
    "    )\n",
    ")\n"
   ]
  },
  {
   "cell_type": "markdown",
   "id": "4f590440",
   "metadata": {},
   "source": [
    "## Our Vector Embeddings Store in PineconeDB\n",
    "\n",
    "* It means jitne aapke text_chunk hai utne hi  Pinecone vector DB mai store honge like 42207"
   ]
  },
  {
   "cell_type": "code",
   "execution_count": 11,
   "id": "bb3ae7c5",
   "metadata": {},
   "outputs": [],
   "source": [
    "from langchain_pinecone import PineconeVectorStore\n",
    "\n",
    "doc_search = PineconeVectorStore.from_documents(\n",
    "    documents=texts_chunk,\n",
    "    index_name = index_name,\n",
    "    embedding = embeddings\n",
    ")"
   ]
  },
  {
   "cell_type": "markdown",
   "id": "21d25b32",
   "metadata": {},
   "source": [
    "## Load the existing index"
   ]
  },
  {
   "cell_type": "code",
   "execution_count": 12,
   "id": "7b21bdcf",
   "metadata": {},
   "outputs": [],
   "source": [
    "from langchain_pinecone import PineconeVectorStore\n",
    "\n",
    "docsearch = PineconeVectorStore.from_existing_index(\n",
    "    index_name= index_name,\n",
    "    embedding=embeddings\n",
    ")"
   ]
  },
  {
   "cell_type": "code",
   "execution_count": 10,
   "id": "c0d5601a",
   "metadata": {},
   "outputs": [
    {
     "data": {
      "text/plain": [
       "<langchain_pinecone.vectorstores.PineconeVectorStore at 0x1fb710f8290>"
      ]
     },
     "execution_count": 10,
     "metadata": {},
     "output_type": "execute_result"
    }
   ],
   "source": [
    "docsearch"
   ]
  },
  {
   "cell_type": "markdown",
   "id": "42204942",
   "metadata": {},
   "source": [
    "## Retriver-->"
   ]
  },
  {
   "cell_type": "markdown",
   "id": "b139a8fd",
   "metadata": {},
   "source": []
  },
  {
   "cell_type": "code",
   "execution_count": 13,
   "id": "58bc52bc",
   "metadata": {},
   "outputs": [],
   "source": [
    "retriever = docsearch.as_retriever(search_type = \"similarity\", search_kwargs = {\"k\" : 3})  ## it give you 3 relevant answer"
   ]
  },
  {
   "cell_type": "code",
   "execution_count": 14,
   "id": "e9594b3e",
   "metadata": {},
   "outputs": [],
   "source": [
    "result = retriever.invoke(\"what is Acne\")"
   ]
  },
  {
   "cell_type": "code",
   "execution_count": 15,
   "id": "6b1853b9",
   "metadata": {},
   "outputs": [
    {
     "data": {
      "text/plain": [
       "[Document(metadata={'page': 241.0, 'source': 'D:\\\\Generative.AI\\\\Medical_Chatboat_Generative-AI\\\\Data\\\\Medical_book.pdf'}, page_content='Acne —A skin condition in which raised bumps,'),\n",
       " Document(metadata={'page': 37.0, 'source': 'D:\\\\Generative.AI\\\\Medical_Chatboat_Generative-AI\\\\Data\\\\Medical_book.pdf'}, page_content='Description\\nAcne vulgaris, the medical term for common acne, is'),\n",
       " Document(metadata={'page': 38.0, 'source': 'D:\\\\Generative.AI\\\\Medical_Chatboat_Generative-AI\\\\Data\\\\Medical_book.pdf'}, page_content='of diag-nosing and treating acne.')]"
      ]
     },
     "execution_count": 15,
     "metadata": {},
     "output_type": "execute_result"
    }
   ],
   "source": [
    "result"
   ]
  },
  {
   "cell_type": "markdown",
   "id": "745a7089",
   "metadata": {},
   "source": [
    "##  I want to relevant/crucial output. So , now we connect my LLms model "
   ]
  },
  {
   "cell_type": "code",
   "execution_count": 16,
   "id": "7f328d1b",
   "metadata": {},
   "outputs": [],
   "source": [
    "import os\n",
    "from dotenv import load_dotenv\n",
    "\n",
    "load_dotenv()\n",
    "\n",
    "openai_api_key = os.environ.get(\"OPENAI_API_KEY\")"
   ]
  },
  {
   "cell_type": "code",
   "execution_count": 17,
   "id": "56f7f396",
   "metadata": {},
   "outputs": [],
   "source": [
    "from langchain_openai import ChatOpenAI\n",
    "\n",
    "llm = ChatOpenAI(model = \"gpt-4o-2024-08-06\")"
   ]
  },
  {
   "cell_type": "code",
   "execution_count": 18,
   "id": "1d829aea",
   "metadata": {},
   "outputs": [],
   "source": [
    "from langchain.chains import create_retrieval_chain\n",
    "from langchain.chains.combine_documents import create_stuff_documents_chain\n",
    "from langchain_core.prompts import ChatPromptTemplate\n",
    "\n",
    "\n",
    "\n",
    "system_prompt = (\n",
    "    \" You are an assistant for question-answer tasks\"\n",
    "    \"Use the following pieces of retrieved context to answer\"\n",
    "    \"the question. If you don't know the answer , say that you \"\n",
    "    \" don't know. Use three sentence maximum and keep the \"\n",
    "    \"answer concise. \\n\\n\"\n",
    "    \"{context}\"  \n",
    ")\n",
    "\n",
    "\n",
    "prompt_template = ChatPromptTemplate.from_messages(\n",
    "    [\n",
    "\n",
    "    (\"system\", \"system_prompt\"),\n",
    "    (\"human\", \"{context}\")\n",
    "]\n",
    "\n",
    ")\n",
    "\n"
   ]
  },
  {
   "cell_type": "markdown",
   "id": "bebaea06",
   "metadata": {},
   "source": [
    "## Chain"
   ]
  },
  {
   "cell_type": "code",
   "execution_count": 19,
   "id": "c40076e1",
   "metadata": {},
   "outputs": [],
   "source": [
    "question_answer_chain = create_stuff_documents_chain(llm,prompt_template)\n",
    "rag_chain = create_retrieval_chain(retriever, question_answer_chain)"
   ]
  },
  {
   "cell_type": "code",
   "execution_count": 20,
   "id": "b2bac258",
   "metadata": {},
   "outputs": [
    {
     "name": "stdout",
     "output_type": "stream",
     "text": [
      "Acne vulgaris, commonly referred to as acne, is a prevalent skin condition that occurs when hair follicles become clogged with oil and dead skin cells. It often manifests as raised bumps on the skin, such as whiteheads, blackheads, pimples, and sometimes cysts or nodules. Acne typically appears on the face, forehead, chest, upper back, and shoulders.\n",
      "\n",
      "The condition is most common among teenagers, though it can affect individuals of all ages. Hormonal changes, such as those occurring during puberty, menstruation, or pregnancy, often exacerbate acne. Other contributing factors include genetics, certain medications, diet, and stress.\n",
      "\n",
      "Diagnosing acne involves a physical examination by a healthcare professional, who will assess the severity and type of acne lesions present. The diagnosis may include determining the underlying causes, such as hormonal imbalances or lifestyle factors.\n",
      "\n",
      "Treatment for acne varies depending on its severity and can include:\n",
      "\n",
      "1. **Topical Treatments:** Over-the-counter or prescription creams and gels containing ingredients like benzoyl peroxide, salicylic acid, or retinoids.\n",
      "\n",
      "2. **Oral Medications:** Antibiotics to reduce bacteria and inflammation, hormonal treatments like birth control pills for women, or isotretinoin for severe cases.\n",
      "\n",
      "3. **Procedures:** Dermatological procedures such as chemical peels, laser therapy, or drainage and extraction.\n",
      "\n",
      "4. **Lifestyle Adjustments:** Recommendations may include a balanced diet, proper skin care routine, and stress management techniques.\n",
      "\n",
      "Managing acne often requires a combination of treatments tailored to the individual's skin type and the root cause of the condition. Consulting with a dermatologist is crucial for effective diagnosis and treatment planning.\n"
     ]
    }
   ],
   "source": [
    "response = rag_chain.invoke({\"input\" : \"What is Acne .?\"})\n",
    "print(response[\"answer\"])"
   ]
  },
  {
   "cell_type": "code",
   "execution_count": 21,
   "id": "d0012d5e",
   "metadata": {},
   "outputs": [
    {
     "name": "stdout",
     "output_type": "stream",
     "text": [
      "When using any medication, it's crucial to follow the prescribed dosage and guidelines provided by your healthcare provider. Overuse or misuse of medication can lead to serious side effects, including potentially life-threatening conditions. Here are a few general points to consider:\n",
      "\n",
      "1. **Adverse Reactions**: While harmful effects are uncommon, they can occur. It’s important to be aware of any unusual symptoms or allergic reactions and to seek medical attention if they arise.\n",
      "\n",
      "2. **Interactions**: Some medications can interact with other drugs, supplements, or certain foods, which can increase the risk of side effects. Always inform your healthcare provider about any other substances you are taking.\n",
      "\n",
      "3. **Individual Response**: People may respond differently to medications based on factors like age, weight, genetics, and overall health. Monitoring how the medication affects you is essential.\n",
      "\n",
      "4. **Avoid Certain Activities**: Until you know how the medication affects you, avoid activities that could be dangerous, such as driving or operating heavy machinery.\n",
      "\n",
      "5. **Consult Healthcare Providers**: Regular consultations with your healthcare provider are important to ensure the medication is working as intended and to adjust dosages if necessary.\n",
      "\n",
      "6. **Read Labels and Instructions**: Always read the medication label and patient information leaflet for specific warnings and instructions related to your medication.\n",
      "\n",
      "By taking these precautions, you can help minimize the risk of adverse effects and ensure the safe use of your medication.\n"
     ]
    }
   ],
   "source": [
    "response = rag_chain.invoke({\"input\" : \"What is the harmfull affect of paractamol .?\"})\n",
    "print(response[\"answer\"])"
   ]
  },
  {
   "cell_type": "code",
   "execution_count": null,
   "id": "a55de58e",
   "metadata": {},
   "outputs": [],
   "source": []
  },
  {
   "cell_type": "code",
   "execution_count": null,
   "id": "854b60da",
   "metadata": {},
   "outputs": [],
   "source": []
  }
 ],
 "metadata": {
  "kernelspec": {
   "display_name": "medical_chat",
   "language": "python",
   "name": "python3"
  },
  "language_info": {
   "codemirror_mode": {
    "name": "ipython",
    "version": 3
   },
   "file_extension": ".py",
   "mimetype": "text/x-python",
   "name": "python",
   "nbconvert_exporter": "python",
   "pygments_lexer": "ipython3",
   "version": "3.11.13"
  }
 },
 "nbformat": 4,
 "nbformat_minor": 5
}
